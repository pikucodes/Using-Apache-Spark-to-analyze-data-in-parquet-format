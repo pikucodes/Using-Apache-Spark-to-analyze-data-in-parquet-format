{
  "nbformat": 4,
  "nbformat_minor": 0,
  "metadata": {
    "colab": {
      "name": "Washing Parquet Data Analysis with Apache Spark.ipynb",
      "provenance": []
    },
    "kernelspec": {
      "name": "python3",
      "display_name": "Python 3"
    },
    "language_info": {
      "name": "python"
    }
  },
  "cells": [
    {
      "cell_type": "code",
      "execution_count": 1,
      "metadata": {
        "colab": {
          "base_uri": "https://localhost:8080/"
        },
        "id": "9wcuiZaF4pV3",
        "outputId": "6e3168ea-2ab5-4f82-d0da-accd4fc183b1"
      },
      "outputs": [
        {
          "output_type": "stream",
          "name": "stdout",
          "text": [
            "Collecting pyspark\n",
            "  Downloading pyspark-3.2.1.tar.gz (281.4 MB)\n",
            "\u001b[K     |████████████████████████████████| 281.4 MB 34 kB/s \n",
            "\u001b[?25hCollecting py4j==0.10.9.3\n",
            "  Downloading py4j-0.10.9.3-py2.py3-none-any.whl (198 kB)\n",
            "\u001b[K     |████████████████████████████████| 198 kB 51.9 MB/s \n",
            "\u001b[?25hBuilding wheels for collected packages: pyspark\n",
            "  Building wheel for pyspark (setup.py) ... \u001b[?25l\u001b[?25hdone\n",
            "  Created wheel for pyspark: filename=pyspark-3.2.1-py2.py3-none-any.whl size=281853642 sha256=ad04cdec2d1759ccaa860d5b3c4b78a1a495d30184e167e666fd247a82cd16cc\n",
            "  Stored in directory: /root/.cache/pip/wheels/9f/f5/07/7cd8017084dce4e93e84e92efd1e1d5334db05f2e83bcef74f\n",
            "Successfully built pyspark\n",
            "Installing collected packages: py4j, pyspark\n",
            "Successfully installed py4j-0.10.9.3 pyspark-3.2.1\n"
          ]
        }
      ],
      "source": [
        "pip install pyspark"
      ]
    },
    {
      "cell_type": "code",
      "source": [
        "import pyspark"
      ],
      "metadata": {
        "id": "p6PjpnnX5azL"
      },
      "execution_count": 1,
      "outputs": []
    },
    {
      "cell_type": "code",
      "source": [
        "try:\n",
        "    from pyspark import SparkContext, SparkConf\n",
        "    from pyspark.sql import SparkSession\n",
        "except ImportError as e:\n",
        "    printmd('<<<<<!!!!! Please restart your kernel after installing Apache Spark !!!!!>>>>>')"
      ],
      "metadata": {
        "id": "fk7NjCoV5dFr"
      },
      "execution_count": 2,
      "outputs": []
    },
    {
      "cell_type": "code",
      "source": [
        "sc = SparkContext.getOrCreate(SparkConf().setMaster(\"local[*]\"))\n",
        "\n",
        "spark = SparkSession \\\n",
        "    .builder \\\n",
        "    .getOrCreate()"
      ],
      "metadata": {
        "id": "INXELyBE5hTE"
      },
      "execution_count": 3,
      "outputs": []
    },
    {
      "cell_type": "code",
      "source": [
        "!wget https://github.com/IBM/coursera/blob/master/coursera_ds/washing.parquet?raw=true\n",
        "!mv washing.parquet?raw=true washing.parquet"
      ],
      "metadata": {
        "colab": {
          "base_uri": "https://localhost:8080/"
        },
        "id": "Bzc4bahx5q81",
        "outputId": "448653d7-0b63-47e0-b7ac-f7fc71d35db3"
      },
      "execution_count": 4,
      "outputs": [
        {
          "output_type": "stream",
          "name": "stdout",
          "text": [
            "--2022-03-05 16:38:30--  https://github.com/IBM/coursera/blob/master/coursera_ds/washing.parquet?raw=true\n",
            "Resolving github.com (github.com)... 140.82.114.3\n",
            "Connecting to github.com (github.com)|140.82.114.3|:443... connected.\n",
            "HTTP request sent, awaiting response... 301 Moved Permanently\n",
            "Location: https://github.com/IBM/claimed/blob/master/coursera_ds/washing.parquet?raw=true [following]\n",
            "--2022-03-05 16:38:30--  https://github.com/IBM/claimed/blob/master/coursera_ds/washing.parquet?raw=true\n",
            "Reusing existing connection to github.com:443.\n",
            "HTTP request sent, awaiting response... 302 Found\n",
            "Location: https://github.com/IBM/claimed/raw/master/coursera_ds/washing.parquet [following]\n",
            "--2022-03-05 16:38:30--  https://github.com/IBM/claimed/raw/master/coursera_ds/washing.parquet\n",
            "Reusing existing connection to github.com:443.\n",
            "HTTP request sent, awaiting response... 302 Found\n",
            "Location: https://raw.githubusercontent.com/IBM/claimed/master/coursera_ds/washing.parquet [following]\n",
            "--2022-03-05 16:38:30--  https://raw.githubusercontent.com/IBM/claimed/master/coursera_ds/washing.parquet\n",
            "Resolving raw.githubusercontent.com (raw.githubusercontent.com)... 185.199.108.133, 185.199.109.133, 185.199.110.133, ...\n",
            "Connecting to raw.githubusercontent.com (raw.githubusercontent.com)|185.199.108.133|:443... connected.\n",
            "HTTP request sent, awaiting response... 200 OK\n",
            "Length: 112048 (109K) [application/octet-stream]\n",
            "Saving to: ‘washing.parquet?raw=true’\n",
            "\n",
            "washing.parquet?raw 100%[===================>] 109.42K  --.-KB/s    in 0.002s  \n",
            "\n",
            "2022-03-05 16:38:30 (64.7 MB/s) - ‘washing.parquet?raw=true’ saved [112048/112048]\n",
            "\n"
          ]
        }
      ]
    },
    {
      "cell_type": "code",
      "source": [
        "df=spark.read.parquet('washing.parquet')"
      ],
      "metadata": {
        "id": "vM7ZiJOI7I3k"
      },
      "execution_count": 6,
      "outputs": []
    },
    {
      "cell_type": "code",
      "source": [
        "type(df)"
      ],
      "metadata": {
        "colab": {
          "base_uri": "https://localhost:8080/"
        },
        "id": "I86U1hBU7W4d",
        "outputId": "37a30b8c-3059-44be-da05-05acc2c49b8e"
      },
      "execution_count": 8,
      "outputs": [
        {
          "output_type": "execute_result",
          "data": {
            "text/plain": [
              "pyspark.sql.dataframe.DataFrame"
            ]
          },
          "metadata": {},
          "execution_count": 8
        }
      ]
    },
    {
      "cell_type": "code",
      "source": [
        "df.createOrReplaceTempView(\"washing\")"
      ],
      "metadata": {
        "id": "jEBbhl-i7wK9"
      },
      "execution_count": 10,
      "outputs": []
    },
    {
      "cell_type": "code",
      "source": [
        "spark.sql(\"SELECT * FROM washing\").show()"
      ],
      "metadata": {
        "colab": {
          "base_uri": "https://localhost:8080/"
        },
        "id": "xKtjsoYT7hYm",
        "outputId": "ff43a4bc-746e-4725-9b13-261e18edd4a6"
      },
      "execution_count": 11,
      "outputs": [
        {
          "output_type": "stream",
          "name": "stdout",
          "text": [
            "+--------------------+--------------------+-----+--------+----------+---------+--------+-----+-----------+-------------+-------+\n",
            "|                 _id|                _rev|count|flowrate|fluidlevel|frequency|hardness|speed|temperature|           ts|voltage|\n",
            "+--------------------+--------------------+-----+--------+----------+---------+--------+-----+-----------+-------------+-------+\n",
            "|0d86485d0f88d1f9d...|1-57940679fb8a713...|    4|      11|acceptable|     null|      77| null|        100|1547808723923|   null|\n",
            "|0d86485d0f88d1f9d...|1-15ff3a0b304d789...|    2|    null|      null|     null|    null| 1046|       null|1547808729917|   null|\n",
            "|0d86485d0f88d1f9d...|1-97c2742b68c7b07...|    4|    null|      null|       71|    null| null|       null|1547808731918|    236|\n",
            "|0d86485d0f88d1f9d...|1-eefb903dbe45746...|   19|      11|acceptable|     null|      75| null|         86|1547808738999|   null|\n",
            "|0d86485d0f88d1f9d...|1-5f68b4c72813c25...|    7|    null|      null|       75|    null| null|       null|1547808740927|    235|\n",
            "|0d86485d0f88d1f9d...|1-cd4b6c57ddbe77e...|    5|    null|      null|     null|    null| 1014|       null|1547808744923|   null|\n",
            "|0d86485d0f88d1f9d...|1-a35b25b5bf43aaf...|   32|      11|acceptable|     null|      73| null|         84|1547808752028|   null|\n",
            "|0d86485d0f88d1f9d...|1-b717f7289a8476d...|   48|      11|acceptable|     null|      79| null|         84|1547808768065|   null|\n",
            "|0d86485d0f88d1f9d...|1-c2f1f8fcf178b2f...|   18|    null|      null|       73|    null| null|       null|1547808773944|    228|\n",
            "|0d86485d0f88d1f9d...|1-15033dd9eebb4a8...|   59|      11|acceptable|     null|      72| null|         96|1547808779093|   null|\n",
            "|0d86485d0f88d1f9d...|1-753dae825f9a6c2...|   62|      11|acceptable|     null|      73| null|         88|1547808782113|   null|\n",
            "|0d86485d0f88d1f9d...|1-b168089f44f03f0...|   13|    null|      null|     null|    null| 1097|       null|1547808784940|   null|\n",
            "|0d86485d0f88d1f9d...|1-403b687c6be0dea...|   23|    null|      null|       80|    null| null|       null|1547808788955|    236|\n",
            "|0d86485d0f88d1f9d...|1-195551e0455a24b...|   72|      11|acceptable|     null|      77| null|         87|1547808792134|   null|\n",
            "|0d86485d0f88d1f9d...|1-060a39fc6c2ddee...|   26|    null|      null|       62|    null| null|       null|1547808797959|    233|\n",
            "|0d86485d0f88d1f9d...|1-2234514bffee465...|   27|    null|      null|       61|    null| null|       null|1547808800960|    226|\n",
            "|0d86485d0f88d1f9d...|1-4265898bb401db0...|   82|      11|acceptable|     null|      79| null|         96|1547808802154|   null|\n",
            "|0d86485d0f88d1f9d...|1-2fbf7ca9a0425a0...|   94|      11|acceptable|     null|      73| null|         90|1547808814186|   null|\n",
            "|0d86485d0f88d1f9d...|1-203c0ee6d7fbd21...|   97|      11|acceptable|     null|      77| null|         88|1547808817190|   null|\n",
            "|0d86485d0f88d1f9d...|1-47e1965db94fcab...|  104|      11|acceptable|     null|      75| null|         80|1547808824198|   null|\n",
            "+--------------------+--------------------+-----+--------+----------+---------+--------+-----+-----------+-------------+-------+\n",
            "only showing top 20 rows\n",
            "\n"
          ]
        }
      ]
    },
    {
      "cell_type": "code",
      "source": [
        "df.dtypes"
      ],
      "metadata": {
        "colab": {
          "base_uri": "https://localhost:8080/"
        },
        "id": "u7yfUBtxLRY4",
        "outputId": "9f56796b-f55e-4713-d245-84bb23a4f050"
      },
      "execution_count": 26,
      "outputs": [
        {
          "output_type": "execute_result",
          "data": {
            "text/plain": [
              "[('_id', 'string'),\n",
              " ('_rev', 'string'),\n",
              " ('count', 'bigint'),\n",
              " ('flowrate', 'bigint'),\n",
              " ('fluidlevel', 'string'),\n",
              " ('frequency', 'bigint'),\n",
              " ('hardness', 'bigint'),\n",
              " ('speed', 'bigint'),\n",
              " ('temperature', 'bigint'),\n",
              " ('ts', 'bigint'),\n",
              " ('voltage', 'bigint')]"
            ]
          },
          "metadata": {},
          "execution_count": 26
        }
      ]
    },
    {
      "cell_type": "markdown",
      "source": [
        "result = spark.sql(\"select voltage from washing where voltage is not null\")"
      ],
      "metadata": {
        "id": "0hTnJiON_lHE"
      }
    },
    {
      "cell_type": "code",
      "source": [
        "result = spark.sql(\"select voltage from washing where voltage is not null\")"
      ],
      "metadata": {
        "id": "ddXvpUSy_xVc"
      },
      "execution_count": 12,
      "outputs": []
    },
    {
      "cell_type": "code",
      "source": [
        "type(result)"
      ],
      "metadata": {
        "colab": {
          "base_uri": "https://localhost:8080/"
        },
        "id": "ugUJZ8gj_zbz",
        "outputId": "9d145857-773c-454b-d147-8f3202d036be"
      },
      "execution_count": 13,
      "outputs": [
        {
          "output_type": "execute_result",
          "data": {
            "text/plain": [
              "pyspark.sql.dataframe.DataFrame"
            ]
          },
          "metadata": {},
          "execution_count": 13
        }
      ]
    },
    {
      "cell_type": "markdown",
      "source": [
        "**GETTING A RANDOM SAMPLE OF THE CREATED RDD**"
      ],
      "metadata": {
        "id": "BaCfTNboB2jk"
      }
    },
    {
      "cell_type": "code",
      "source": [
        "result_array = result.rdd.map(lambda row : row.voltage).sample(False,0.98).collect()"
      ],
      "metadata": {
        "id": "BCPRCHVNBKy4"
      },
      "execution_count": 21,
      "outputs": []
    },
    {
      "cell_type": "code",
      "source": [
        "print(result_array)"
      ],
      "metadata": {
        "colab": {
          "base_uri": "https://localhost:8080/"
        },
        "id": "-kzVnUxcBkkl",
        "outputId": "2c4f00a3-941c-4ff3-c8f5-7b17e9c0915f"
      },
      "execution_count": 22,
      "outputs": [
        {
          "output_type": "stream",
          "name": "stdout",
          "text": [
            "[236, 235, 236, 233, 235, 220, 225, 239, 230, 236, 244, 235, 234, 224, 225, 223, 236, 226, 227, 237, 233, 226, 222, 228, 228, 232, 225, 229, 224, 235, 233, 226, 239, 238, 222, 226, 236, 230, 235, 237, 225, 228, 221, 232, 221, 230, 231, 220, 235, 223, 231, 231, 236, 229, 248, 223, 222, 238, 235, 234, 228, 233, 229, 221, 223, 235, 220, 232, 226, 239, 229, 229, 232, 220, 227, 244, 232, 228, 229, 225, 227, 230, 221, 221, 238, 235, 229, 222, 226, 237, 222, 235, 237, 228, 231, 237, 237, 236, 224, 231, 231, 234, 231, 234, 238, 225, 224, 229, 222, 239, 221, 236, 227, 228, 222, 234, 222, 235, 224, 238, 234, 234, 250, 224, 227, 232, 220, 228, 224, 227, 231, 225, 231, 237, 228, 244, 236, 224, 230, 239, 229, 221, 235, 233, 239, 221, 248, 226, 233, 234, 238, 221, 225, 220, 223, 223, 226, 232, 242, 221, 232, 229, 232, 224, 229, 224, 233, 223, 225, 231, 237, 220, 221, 227, 220, 236, 234, 221, 231, 232, 237, 250, 240, 223, 225, 223, 225, 222, 231, 231, 239, 247, 230, 223, 230, 226, 221, 227, 226, 237, 227, 232, 238, 231, 253, 243, 252, 227, 237, 224, 222, 256, 252, 226, 236, 224, 232, 232, 231, 234, 232, 220, 255, 254, 229, 223, 233, 223, 232, 224, 224, 226, 220, 225, 238, 247, 255, 226, 231, 225, 236, 238, 258, 258, 251, 228, 230, 222, 236, 251, 237, 235, 230, 221, 225, 233, 232, 246, 247, 220, 221, 236, 238, 229, 239, 221, 220, 237, 220, 234, 228, 221, 232, 238, 238, 234, 220, 233, 229, 230, 237, 224, 235, 239, 229, 239, 233, 223, 229, 258, 220, 227, 221, 238, 223, 232, 232, 234, 232, 229, 231, 228, 236, 239, 222, 228, 220, 221, 236, 222, 238, 226, 239, 231, 233, 232, 226, 221, 239, 234, 235, 231, 251, 232, 239, 223, 239, 229, 234, 250, 229, 227, 225, 235, 234, 221, 236, 222, 221, 235, 232, 229, 226, 235, 234, 235, 227, 221, 220, 223, 231, 227, 226, 222, 226, 220, 229, 222, 231, 221, 229, 231, 237, 224, 221, 236, 222, 228, 238, 239, 238, 240, 250, 238, 233, 230, 223, 226, 223, 235, 222, 230, 257, 224, 238, 236, 228, 228, 255, 235, 224, 237, 229, 224, 236, 230, 223, 220, 228, 229, 222, 236, 223, 235, 225, 220, 238, 234, 223, 222, 234, 221, 242, 223, 220, 220, 224, 238, 232, 221, 228, 220, 239, 253, 231, 227, 239, 228, 227, 232, 237, 257, 220, 234, 227]\n"
          ]
        }
      ]
    },
    {
      "cell_type": "code",
      "source": [
        "result_array[:15]"
      ],
      "metadata": {
        "colab": {
          "base_uri": "https://localhost:8080/"
        },
        "id": "M4a0FsavDqE8",
        "outputId": "1156e160-ba83-4796-d47f-0bba395f92c9"
      },
      "execution_count": 23,
      "outputs": [
        {
          "output_type": "execute_result",
          "data": {
            "text/plain": [
              "[236, 235, 236, 233, 235, 220, 225, 239, 230, 236, 244, 235, 234, 224, 225]"
            ]
          },
          "metadata": {},
          "execution_count": 23
        }
      ]
    },
    {
      "cell_type": "markdown",
      "source": [
        "**LET US ANALYZE HOW VOLTAGE VARIES WITH TIME**"
      ],
      "metadata": {
        "id": "-5-g8AmlPTvI"
      }
    },
    {
      "cell_type": "code",
      "source": [
        "result = spark.sql(\"select voltage,ts from washing where voltage is not null order by ts asc\")\n",
        "result_rdd = result.rdd.sample(False,0.1).map(lambda row : (row.ts,row.voltage))\n",
        "result_array_ts = result_rdd.map(lambda ts_voltage: ts_voltage[0]).collect()\n",
        "result_array_voltage = result_rdd.map(lambda ts_voltage: ts_voltage[1]).collect()"
      ],
      "metadata": {
        "id": "Ylo-jc8-MoRe"
      },
      "execution_count": 27,
      "outputs": []
    },
    {
      "cell_type": "code",
      "source": [
        "print(result_array_ts[:15])\n",
        "print(result_array_voltage[:15])"
      ],
      "metadata": {
        "colab": {
          "base_uri": "https://localhost:8080/"
        },
        "id": "HXZ972eCOQzo",
        "outputId": "ebcfe7c3-6234-4515-fd51-f3d523e6db01"
      },
      "execution_count": 37,
      "outputs": [
        {
          "output_type": "stream",
          "name": "stdout",
          "text": [
            "[1547808734922, 1547808812970, 1547808885074, 1547808930101, 1547808933120, 1547808951131, 1547809020199, 1547809053217, 1547809056219, 1547809080236, 1547809092245, 1547809107251, 1547809122262, 1547809158278, 1547809176311]\n",
            "[234, 227, 226, 238, 228, 238, 221, 226, 226, 235, 227, 220, 235, 226, 224]\n"
          ]
        }
      ]
    },
    {
      "cell_type": "code",
      "source": [
        "import matplotlib.pyplot as plt\n"
      ],
      "metadata": {
        "id": "TZ653MeZPEI-"
      },
      "execution_count": 39,
      "outputs": []
    },
    {
      "cell_type": "code",
      "source": [
        "plt.plot(result_array_ts,result_array_voltage)\n",
        "plt.xlabel(\"time\")\n",
        "plt.ylabel(\"voltage\")\n",
        "plt.show()"
      ],
      "metadata": {
        "colab": {
          "base_uri": "https://localhost:8080/",
          "height": 279
        },
        "id": "qsQ_Ae1tO66F",
        "outputId": "645d9684-48cb-4e7f-834e-f6965d4a4936"
      },
      "execution_count": 40,
      "outputs": [
        {
          "output_type": "display_data",
          "data": {
            "image/png": "[encoded data removed]",
            "text/plain": [
              "<Figure size 432x288 with 1 Axes>"
            ]
          },
          "metadata": {
            "needs_background": "light"
          }
        }
      ]
    },
    {
      "cell_type": "markdown",
      "source": [
        ""
      ],
      "metadata": {
        "id": "NFduIhGkPSBF"
      }
    },
    {
      "cell_type": "code",
      "source": [
        "result_df = spark.sql(\n",
        "\"\"\"select hardness,temperature,flowrate from washing\n",
        "    where hardness is not null and \n",
        "    temperature is not null and \n",
        "    flowrate is not null\"\"\")"
      ],
      "metadata": {
        "id": "LJYHSCzXQmc1"
      },
      "execution_count": 41,
      "outputs": []
    },
    {
      "cell_type": "code",
      "source": [
        "result_rdd = result_df.rdd.sample(False,0.1).map(lambda row : (row.hardness,row.temperature,row.flowrate))\n",
        "result_array_hardness = result_rdd.map(lambda hardness_temperature_flowrate: hardness_temperature_flowrate[0]).collect()\n",
        "result_array_temperature = result_rdd.map(lambda hardness_temperature_flowrate: hardness_temperature_flowrate[1]).collect()\n",
        "result_array_flowrate = result_rdd.map(lambda hardness_temperature_flowrate: hardness_temperature_flowrate[2]).collect()"
      ],
      "metadata": {
        "id": "vUmXvXcLQ77e"
      },
      "execution_count": 42,
      "outputs": []
    },
    {
      "cell_type": "code",
      "source": [
        "from mpl_toolkits.mplot3d import Axes3D\n",
        "\n",
        "fig = plt.figure()\n",
        "ax = fig.add_subplot(111, projection='3d')\n",
        "\n",
        "ax.scatter(result_array_hardness,result_array_temperature,result_array_flowrate, c='r', marker='o')\n",
        "\n",
        "ax.set_xlabel('hardness')\n",
        "ax.set_ylabel('temperature')\n",
        "ax.set_zlabel('flowrate')\n",
        "\n",
        "plt.show()"
      ],
      "metadata": {
        "colab": {
          "base_uri": "https://localhost:8080/",
          "height": 248
        },
        "id": "-2feE6k5Rb0t",
        "outputId": "ef8eea51-85da-47fc-cdcd-27495558eae5"
      },
      "execution_count": 43,
      "outputs": [
        {
          "output_type": "display_data",
          "data": {
            "image/png": "[encoded data removed]",
            "text/plain": [
              "<Figure size 432x288 with 1 Axes>"
            ]
          },
          "metadata": {
            "needs_background": "light"
          }
        }
      ]
    },
    {
      "cell_type": "code",
      "source": [
        "plt.hist(result_array_hardness)\n",
        "plt.show()"
      ],
      "metadata": {
        "colab": {
          "base_uri": "https://localhost:8080/",
          "height": 265
        },
        "id": "nO3fgjG9SS0Z",
        "outputId": "b24dbbef-9445-4f6c-e7b1-f319337d409b"
      },
      "execution_count": 44,
      "outputs": [
        {
          "output_type": "display_data",
          "data": {
            "image/png": "[encoded data removed]",
            "text/plain": [
              "<Figure size 432x288 with 1 Axes>"
            ]
          },
          "metadata": {
            "needs_background": "light"
          }
        }
      ]
    },
    {
      "cell_type": "markdown",
      "source": [
        ""
      ],
      "metadata": {
        "id": "cmMKpwMTWcUA"
      }
    },
    {
      "cell_type": "code",
      "source": [
        "result = spark.sql(\"\"\"\n",
        "SELECT * from (\n",
        "    SELECT\n",
        "    min(temperature) over w as min_temperature,\n",
        "    max(temperature) over w as max_temperature, \n",
        "    min(voltage) over w as min_voltage,\n",
        "    max(voltage) over w as max_voltage,\n",
        "    min(flowrate) over w as min_flowrate,\n",
        "    max(flowrate) over w as max_flowrate,\n",
        "    min(frequency) over w as min_frequency,\n",
        "    max(frequency) over w as max_frequency,\n",
        "    min(hardness) over w as min_hardness,\n",
        "    max(hardness) over w as max_hardness,\n",
        "    min(speed) over w as min_speed,\n",
        "    max(speed) over w as max_speed\n",
        "    FROM washing \n",
        "    WINDOW w AS (ORDER BY ts ROWS BETWEEN CURRENT ROW AND 10 FOLLOWING) \n",
        ")\n",
        "WHERE min_temperature is not null \n",
        "AND max_temperature is not null\n",
        "AND min_voltage is not null\n",
        "AND max_voltage is not null\n",
        "AND min_flowrate is not null\n",
        "AND max_flowrate is not null\n",
        "AND min_frequency is not null\n",
        "AND max_frequency is not null\n",
        "AND min_hardness is not null\n",
        "AND min_speed is not null\n",
        "AND max_speed is not null   \n",
        "\"\"\")"
      ],
      "metadata": {
        "id": "Q95jwu2oWqc3"
      },
      "execution_count": 46,
      "outputs": []
    },
    {
      "cell_type": "code",
      "source": [
        "result.show()"
      ],
      "metadata": {
        "colab": {
          "base_uri": "https://localhost:8080/"
        },
        "id": "tmkwhxKtWsU-",
        "outputId": "892d5c82-98cd-4ca5-8aa6-2a608fb7a686"
      },
      "execution_count": 49,
      "outputs": [
        {
          "output_type": "stream",
          "name": "stdout",
          "text": [
            "+---------------+---------------+-----------+-----------+------------+------------+-------------+-------------+------------+------------+---------+---------+\n",
            "|min_temperature|max_temperature|min_voltage|max_voltage|min_flowrate|max_flowrate|min_frequency|max_frequency|min_hardness|max_hardness|min_speed|max_speed|\n",
            "+---------------+---------------+-----------+-----------+------------+------------+-------------+-------------+------------+------------+---------+---------+\n",
            "|             81|            100|        221|        223|          11|          11|           68|           76|          71|          78|     1033|     1033|\n",
            "|             81|            100|        221|        223|          11|          11|           68|           76|          72|          78|     1033|     1033|\n",
            "|             81|            100|        221|        223|          11|          11|           68|           76|          72|          80|     1033|     1033|\n",
            "|             81|            100|        222|        223|          11|          11|           68|           74|          72|          80|     1033|     1046|\n",
            "|             81|            100|        222|        223|          11|          11|           68|           74|          73|          80|     1033|     1046|\n",
            "|             80|             94|        222|        223|          11|          11|           68|           74|          73|          80|     1033|     1046|\n",
            "|             80|             94|        222|        236|          11|          11|           68|           74|          73|          80|     1046|     1046|\n",
            "|             80|             94|        222|        236|          11|          11|           68|           74|          73|          80|     1046|     1046|\n",
            "|             80|             94|        222|        236|          11|          11|           71|           74|          73|          80|     1046|     1046|\n",
            "|             80|             94|        222|        236|          11|          11|           71|           74|          73|          80|     1046|     1046|\n",
            "|             80|             84|        222|        236|          11|          11|           71|           74|          73|          80|     1046|     1053|\n",
            "|             80|             84|        222|        236|          11|          11|           60|           74|          75|          80|     1046|     1053|\n",
            "|             80|             88|        234|        236|          11|          11|           60|           71|          73|          80|     1046|     1053|\n",
            "|             80|             88|        234|        236|          11|          11|           60|           71|          73|          80|     1046|     1053|\n",
            "|             80|             88|        234|        236|          11|          11|           60|           71|          72|          80|     1053|     1053|\n",
            "|             80|             88|        234|        236|          11|          11|           60|           80|          72|          80|     1053|     1053|\n",
            "|             80|             88|        234|        236|          11|          11|           60|           80|          72|          78|     1053|     1053|\n",
            "|             80|             88|        234|        234|          11|          11|           60|           80|          72|          78|     1053|     1053|\n",
            "|             81|             88|        234|        234|          11|          11|           60|           80|          72|          77|     1019|     1053|\n",
            "|             81|             88|        234|        234|          11|          11|           60|           80|          72|          77|     1019|     1053|\n",
            "+---------------+---------------+-----------+-----------+------------+------------+-------------+-------------+------------+------------+---------+---------+\n",
            "only showing top 20 rows\n",
            "\n"
          ]
        }
      ]
    },
    {
      "cell_type": "code",
      "source": [
        "from pyspark.ml.feature import PCA\n",
        "from pyspark.ml.linalg import Vectors\n",
        "from pyspark.ml.feature import VectorAssembler"
      ],
      "metadata": {
        "id": "iPl5Bcd4XJuX"
      },
      "execution_count": 50,
      "outputs": []
    },
    {
      "cell_type": "markdown",
      "source": [
        "**In each row, the values of the input columns will be concatenated into a vector in the specified order.**"
      ],
      "metadata": {
        "id": "ZGvlMr3xXpyx"
      }
    },
    {
      "cell_type": "code",
      "source": [
        "assembler = VectorAssembler(inputCols=result.columns, outputCol=\"features\")"
      ],
      "metadata": {
        "id": "AX8iAJfDXQV8"
      },
      "execution_count": 51,
      "outputs": []
    },
    {
      "cell_type": "code",
      "source": [
        "features = assembler.transform(result)"
      ],
      "metadata": {
        "id": "sCo9sz68XUw2"
      },
      "execution_count": 55,
      "outputs": []
    },
    {
      "cell_type": "code",
      "source": [
        "features.show()"
      ],
      "metadata": {
        "colab": {
          "base_uri": "https://localhost:8080/"
        },
        "id": "UGIpYei7YFP2",
        "outputId": "fcf90bff-4096-42ca-d9d1-bb39482ddc6f"
      },
      "execution_count": 57,
      "outputs": [
        {
          "output_type": "stream",
          "name": "stdout",
          "text": [
            "+---------------+---------------+-----------+-----------+------------+------------+-------------+-------------+------------+------------+---------+---------+--------------------+\n",
            "|min_temperature|max_temperature|min_voltage|max_voltage|min_flowrate|max_flowrate|min_frequency|max_frequency|min_hardness|max_hardness|min_speed|max_speed|            features|\n",
            "+---------------+---------------+-----------+-----------+------------+------------+-------------+-------------+------------+------------+---------+---------+--------------------+\n",
            "|             81|            100|        221|        223|          11|          11|           68|           76|          71|          78|     1033|     1033|[81.0,100.0,221.0...|\n",
            "|             81|            100|        221|        223|          11|          11|           68|           76|          72|          78|     1033|     1033|[81.0,100.0,221.0...|\n",
            "|             81|            100|        221|        223|          11|          11|           68|           76|          72|          80|     1033|     1033|[81.0,100.0,221.0...|\n",
            "|             81|            100|        222|        223|          11|          11|           68|           74|          72|          80|     1033|     1046|[81.0,100.0,222.0...|\n",
            "|             81|            100|        222|        223|          11|          11|           68|           74|          73|          80|     1033|     1046|[81.0,100.0,222.0...|\n",
            "|             80|             94|        222|        223|          11|          11|           68|           74|          73|          80|     1033|     1046|[80.0,94.0,222.0,...|\n",
            "|             80|             94|        222|        236|          11|          11|           68|           74|          73|          80|     1046|     1046|[80.0,94.0,222.0,...|\n",
            "|             80|             94|        222|        236|          11|          11|           68|           74|          73|          80|     1046|     1046|[80.0,94.0,222.0,...|\n",
            "|             80|             94|        222|        236|          11|          11|           71|           74|          73|          80|     1046|     1046|[80.0,94.0,222.0,...|\n",
            "|             80|             94|        222|        236|          11|          11|           71|           74|          73|          80|     1046|     1046|[80.0,94.0,222.0,...|\n",
            "|             80|             84|        222|        236|          11|          11|           71|           74|          73|          80|     1046|     1053|[80.0,84.0,222.0,...|\n",
            "|             80|             84|        222|        236|          11|          11|           60|           74|          75|          80|     1046|     1053|[80.0,84.0,222.0,...|\n",
            "|             80|             88|        234|        236|          11|          11|           60|           71|          73|          80|     1046|     1053|[80.0,88.0,234.0,...|\n",
            "|             80|             88|        234|        236|          11|          11|           60|           71|          73|          80|     1046|     1053|[80.0,88.0,234.0,...|\n",
            "|             80|             88|        234|        236|          11|          11|           60|           71|          72|          80|     1053|     1053|[80.0,88.0,234.0,...|\n",
            "|             80|             88|        234|        236|          11|          11|           60|           80|          72|          80|     1053|     1053|[80.0,88.0,234.0,...|\n",
            "|             80|             88|        234|        236|          11|          11|           60|           80|          72|          78|     1053|     1053|[80.0,88.0,234.0,...|\n",
            "|             80|             88|        234|        234|          11|          11|           60|           80|          72|          78|     1053|     1053|[80.0,88.0,234.0,...|\n",
            "|             81|             88|        234|        234|          11|          11|           60|           80|          72|          77|     1019|     1053|[81.0,88.0,234.0,...|\n",
            "|             81|             88|        234|        234|          11|          11|           60|           80|          72|          77|     1019|     1053|[81.0,88.0,234.0,...|\n",
            "+---------------+---------------+-----------+-----------+------------+------------+-------------+-------------+------------+------------+---------+---------+--------------------+\n",
            "only showing top 20 rows\n",
            "\n"
          ]
        }
      ]
    },
    {
      "cell_type": "code",
      "source": [
        "features.rdd.map(lambda r: r.features).take(10)"
      ],
      "metadata": {
        "colab": {
          "base_uri": "https://localhost:8080/"
        },
        "id": "ZobFw5VBYbiH",
        "outputId": "7d03bf9a-b387-42b0-df4e-5c937b9d5823"
      },
      "execution_count": 58,
      "outputs": [
        {
          "output_type": "execute_result",
          "data": {
            "text/plain": [
              "[DenseVector([81.0, 100.0, 221.0, 223.0, 11.0, 11.0, 68.0, 76.0, 71.0, 78.0, 1033.0, 1033.0]),\n",
              " DenseVector([81.0, 100.0, 221.0, 223.0, 11.0, 11.0, 68.0, 76.0, 72.0, 78.0, 1033.0, 1033.0]),\n",
              " DenseVector([81.0, 100.0, 221.0, 223.0, 11.0, 11.0, 68.0, 76.0, 72.0, 80.0, 1033.0, 1033.0]),\n",
              " DenseVector([81.0, 100.0, 222.0, 223.0, 11.0, 11.0, 68.0, 74.0, 72.0, 80.0, 1033.0, 1046.0]),\n",
              " DenseVector([81.0, 100.0, 222.0, 223.0, 11.0, 11.0, 68.0, 74.0, 73.0, 80.0, 1033.0, 1046.0]),\n",
              " DenseVector([80.0, 94.0, 222.0, 223.0, 11.0, 11.0, 68.0, 74.0, 73.0, 80.0, 1033.0, 1046.0]),\n",
              " DenseVector([80.0, 94.0, 222.0, 236.0, 11.0, 11.0, 68.0, 74.0, 73.0, 80.0, 1046.0, 1046.0]),\n",
              " DenseVector([80.0, 94.0, 222.0, 236.0, 11.0, 11.0, 68.0, 74.0, 73.0, 80.0, 1046.0, 1046.0]),\n",
              " DenseVector([80.0, 94.0, 222.0, 236.0, 11.0, 11.0, 71.0, 74.0, 73.0, 80.0, 1046.0, 1046.0]),\n",
              " DenseVector([80.0, 94.0, 222.0, 236.0, 11.0, 11.0, 71.0, 74.0, 73.0, 80.0, 1046.0, 1046.0])]"
            ]
          },
          "metadata": {},
          "execution_count": 58
        }
      ]
    },
    {
      "cell_type": "markdown",
      "source": [
        "**REDUCING DIMENSION OF THE DATA WITH PCA**"
      ],
      "metadata": {
        "id": "JzbHf2qYZrWo"
      }
    },
    {
      "cell_type": "code",
      "source": [
        "pca = PCA(k = 3, inputCol='features', outputCol = 'pcafeatures')\n",
        "model = pca.fit(features)"
      ],
      "metadata": {
        "id": "5milTDOwY9Tn"
      },
      "execution_count": 59,
      "outputs": []
    },
    {
      "cell_type": "code",
      "source": [
        "result_pca = model.transform(features).select('pcaFeatures')\n",
        "result_pca.show(truncate=False)"
      ],
      "metadata": {
        "colab": {
          "base_uri": "https://localhost:8080/"
        },
        "id": "Md3uAWxuZK9u",
        "outputId": "5b38ad16-90f8-4f64-cd0e-a14f90caeee2"
      },
      "execution_count": 60,
      "outputs": [
        {
          "output_type": "stream",
          "name": "stdout",
          "text": [
            "+----------------------------------------------------------+\n",
            "|pcaFeatures                                               |\n",
            "+----------------------------------------------------------+\n",
            "|[1459.9789705815301,18.745237781813703,70.7843079478946]  |\n",
            "|[1459.9954818287874,19.113431461685497,70.72738871418585] |\n",
            "|[1460.0895843562396,20.969471062955694,70.75630600314628] |\n",
            "|[1469.69939294206,20.40312464764779,62.01356967480217]    |\n",
            "|[1469.7159041893176,20.771318327519584,61.95665044109353] |\n",
            "|[1469.712831733977,20.790751117254793,61.89610667824968]  |\n",
            "|[1478.353026457406,20.29455702976173,71.67550104802774]   |\n",
            "|[1478.353026457406,20.29455702976173,71.67550104802774]   |\n",
            "|[1478.3686036139297,20.26062689766929,71.63355353599673]  |\n",
            "|[1478.3686036139297,20.26062689766929,71.63355353599673]  |\n",
            "|[1483.5412027685188,20.006222577534132,66.82710394276808] |\n",
            "|[1483.5171090224458,20.86702042161668,66.86707301946444]  |\n",
            "|[1483.422426854405,19.87574823668772,66.93027077907936]   |\n",
            "|[1483.422426854405,19.87574823668772,66.93027077907936]   |\n",
            "|[1488.103073547386,19.31184857342016,72.162618263578]     |\n",
            "|[1488.10769268508,19.311945711128185,72.2762160559929]    |\n",
            "|[1488.013590157628,17.455906109857988,72.24729876703248]  |\n",
            "|[1488.026374556729,17.476327666524067,72.22147034223724]  |\n",
            "|[1465.1644738448076,17.503338292838507,47.060728982675755]|\n",
            "|[1465.1644738448076,17.503338292838507,47.060728982675755]|\n",
            "+----------------------------------------------------------+\n",
            "only showing top 20 rows\n",
            "\n"
          ]
        }
      ]
    },
    {
      "cell_type": "code",
      "source": [
        "rdd = result_pca.rdd.sample(False, 0.8)"
      ],
      "metadata": {
        "id": "grBlDR3bZXV1"
      },
      "execution_count": 61,
      "outputs": []
    },
    {
      "cell_type": "code",
      "source": [
        "x = rdd.map(lambda a : a.pcaFeatures).map(lambda a : a[0]).collect()"
      ],
      "metadata": {
        "id": "KwqAaLP0Zao3"
      },
      "execution_count": 62,
      "outputs": []
    },
    {
      "cell_type": "code",
      "source": [
        "y = rdd.map(lambda a : a.pcaFeatures).map(lambda a : a[1]).collect()"
      ],
      "metadata": {
        "id": "n3c2iks0ZddP"
      },
      "execution_count": 63,
      "outputs": []
    },
    {
      "cell_type": "code",
      "source": [
        "z = rdd.map(lambda a : a.pcaFeatures).map(lambda a : a[2]).collect()"
      ],
      "metadata": {
        "id": "wwAo3IrkZeyX"
      },
      "execution_count": 64,
      "outputs": []
    },
    {
      "cell_type": "code",
      "source": [
        "%matplotlib inline\n",
        "import matplotlib.pyplot as plt\n",
        "from mpl_toolkits.mplot3d import Axes3D\n",
        "\n",
        "\n",
        "fig = plt.figure()\n",
        "ax = fig.add_subplot(111, projection='3d')\n",
        "\n",
        "\n",
        "\n",
        "\n",
        "ax.scatter(x,y,z, c='r', marker='o')\n",
        "\n",
        "ax.set_xlabel('dimension1')\n",
        "ax.set_ylabel('dimension2')\n",
        "ax.set_zlabel('dimension3')\n",
        "\n",
        "plt.show()"
      ],
      "metadata": {
        "colab": {
          "base_uri": "https://localhost:8080/",
          "height": 248
        },
        "id": "yZzKd3cbZkpv",
        "outputId": "06c909f6-5471-4d28-9461-7972a5f81966"
      },
      "execution_count": 65,
      "outputs": [
        {
          "output_type": "display_data",
          "data": {
            "image/png": "[encoded data removed]",
            "text/plain": [
              "<Figure size 432x288 with 1 Axes>"
            ]
          },
          "metadata": {
            "needs_background": "light"
          }
        }
      ]
    }
  ]
}